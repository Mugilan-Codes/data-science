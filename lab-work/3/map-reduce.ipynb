{
 "cells": [
  {
   "cell_type": "code",
   "execution_count": 1,
   "id": "anticipated-camping",
   "metadata": {},
   "outputs": [],
   "source": [
    "# 2019202033 - Mugilan E.S."
   ]
  },
  {
   "cell_type": "code",
   "execution_count": 2,
   "id": "racial-zimbabwe",
   "metadata": {},
   "outputs": [],
   "source": [
    "# LAB 3 - Working with mapReduce Concept"
   ]
  },
  {
   "cell_type": "code",
   "execution_count": 3,
   "id": "registered-sandwich",
   "metadata": {},
   "outputs": [],
   "source": [
    "import pandas as pd"
   ]
  },
  {
   "cell_type": "code",
   "execution_count": 25,
   "id": "proof-departure",
   "metadata": {},
   "outputs": [],
   "source": [
    "datasets_folder = \"../../datasets\""
   ]
  },
  {
   "cell_type": "code",
   "execution_count": 26,
   "id": "neural-creator",
   "metadata": {},
   "outputs": [],
   "source": [
    "df = pd.read_csv(f'{datasets_folder}/property_stolen_and_recovered.csv')"
   ]
  },
  {
   "cell_type": "code",
   "execution_count": 27,
   "id": "documentary-syntax",
   "metadata": {},
   "outputs": [
    {
     "name": "stdout",
     "output_type": "stream",
     "text": [
      "<class 'pandas.core.frame.DataFrame'>\n",
      "RangeIndex: 2449 entries, 0 to 2448\n",
      "Data columns (total 8 columns):\n",
      " #   Column                       Non-Null Count  Dtype \n",
      "---  ------                       --------------  ----- \n",
      " 0   Area_Name                    2449 non-null   object\n",
      " 1   Year                         2449 non-null   int64 \n",
      " 2   Group_Name                   2449 non-null   object\n",
      " 3   Sub_Group_Name               2449 non-null   object\n",
      " 4   Cases_Property_Recovered     2449 non-null   int64 \n",
      " 5   Cases_Property_Stolen        2449 non-null   int64 \n",
      " 6   Value_of_Property_Recovered  2449 non-null   int64 \n",
      " 7   Value_of_Property_Stolen     2449 non-null   int64 \n",
      "dtypes: int64(5), object(3)\n",
      "memory usage: 153.2+ KB\n"
     ]
    }
   ],
   "source": [
    "df.info()"
   ]
  },
  {
   "cell_type": "code",
   "execution_count": 28,
   "id": "chronic-pierce",
   "metadata": {},
   "outputs": [
    {
     "data": {
      "text/plain": [
       "2002    245\n",
       "2004    245\n",
       "2006    245\n",
       "2008    245\n",
       "2010    245\n",
       "2001    245\n",
       "2003    245\n",
       "2005    245\n",
       "2009    245\n",
       "2007    244\n",
       "Name: Year, dtype: int64"
      ]
     },
     "execution_count": 28,
     "metadata": {},
     "output_type": "execute_result"
    }
   ],
   "source": [
    "df['Year'].value_counts()"
   ]
  },
  {
   "cell_type": "code",
   "execution_count": 29,
   "id": "direct-saint",
   "metadata": {},
   "outputs": [
    {
     "data": {
      "text/plain": [
       "Lakshadweep         69\n",
       "Assam               70\n",
       "Uttar Pradesh       70\n",
       "Delhi               70\n",
       "Himachal Pradesh    70\n",
       "Name: Area_Name, dtype: int64"
      ]
     },
     "execution_count": 29,
     "metadata": {},
     "output_type": "execute_result"
    }
   ],
   "source": [
    "df['Area_Name'].value_counts(ascending=True).head()"
   ]
  },
  {
   "cell_type": "code",
   "execution_count": 30,
   "id": "decent-fellow",
   "metadata": {},
   "outputs": [
    {
     "data": {
      "text/plain": [
       "Lakshadweep         69\n",
       "Assam               70\n",
       "Uttar Pradesh       70\n",
       "Delhi               70\n",
       "Himachal Pradesh    70\n",
       "Name: Area_Name, dtype: int64"
      ]
     },
     "execution_count": 30,
     "metadata": {},
     "output_type": "execute_result"
    }
   ],
   "source": [
    "df['Area_Name'].value_counts(ascending=True).head()"
   ]
  },
  {
   "cell_type": "code",
   "execution_count": 31,
   "id": "powered-international",
   "metadata": {},
   "outputs": [
    {
     "data": {
      "text/plain": [
       "count    2.449000e+03\n",
       "mean     5.859924e+07\n",
       "std      2.494403e+08\n",
       "min      0.000000e+00\n",
       "25%      6.845700e+05\n",
       "50%      5.851830e+06\n",
       "75%      3.406395e+07\n",
       "max      7.470011e+09\n",
       "Name: Value_of_Property_Recovered, dtype: float64"
      ]
     },
     "execution_count": 31,
     "metadata": {},
     "output_type": "execute_result"
    }
   ],
   "source": [
    "df['Value_of_Property_Recovered'].describe()"
   ]
  },
  {
   "cell_type": "code",
   "execution_count": 32,
   "id": "supposed-lobby",
   "metadata": {},
   "outputs": [
    {
     "data": {
      "text/plain": [
       "count     2449.000000\n",
       "mean      1232.892201\n",
       "std       3079.573907\n",
       "min          0.000000\n",
       "25%         13.000000\n",
       "50%        113.000000\n",
       "75%        722.000000\n",
       "max      27960.000000\n",
       "Name: Cases_Property_Recovered, dtype: float64"
      ]
     },
     "execution_count": 32,
     "metadata": {},
     "output_type": "execute_result"
    }
   ],
   "source": [
    "df['Cases_Property_Recovered'].describe()"
   ]
  },
  {
   "cell_type": "code",
   "execution_count": 33,
   "id": "asian-forum",
   "metadata": {},
   "outputs": [
    {
     "data": {
      "text/plain": [
       "Area_Name\n",
       "Andaman & Nicobar Islands    70\n",
       "Andhra Pradesh               70\n",
       "Arunachal Pradesh            70\n",
       "dtype: int64"
      ]
     },
     "execution_count": 33,
     "metadata": {},
     "output_type": "execute_result"
    }
   ],
   "source": [
    "df.groupby(by='Area_Name').size().head(3)"
   ]
  },
  {
   "cell_type": "code",
   "execution_count": null,
   "id": "adaptive-mortality",
   "metadata": {},
   "outputs": [],
   "source": []
  }
 ],
 "metadata": {
  "kernelspec": {
   "display_name": "Python 3",
   "language": "python",
   "name": "python3"
  },
  "language_info": {
   "codemirror_mode": {
    "name": "ipython",
    "version": 3
   },
   "file_extension": ".py",
   "mimetype": "text/x-python",
   "name": "python",
   "nbconvert_exporter": "python",
   "pygments_lexer": "ipython3",
   "version": "3.8.0"
  }
 },
 "nbformat": 4,
 "nbformat_minor": 5
}
